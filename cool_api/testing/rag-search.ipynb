{
 "cells": [
  {
   "cell_type": "code",
   "execution_count": 26,
   "metadata": {},
   "outputs": [],
   "source": [
    "# Import necessary libraries\n",
    "from flask import request, jsonify\n",
    "from qdrant_client import models, QdrantClient\n",
    "from sentence_transformers import SentenceTransformer\n",
    "from langchain_community.llms import Ollama\n",
    "from langchain.vectorstores import Qdrant, Mem\n",
    "from langchain.embeddings import HuggingFaceBgeEmbeddings\n",
    "from langchain.text_splitter import RecursiveCharacterTextSplitter\n",
    "from langchain.document_loaders import PyPDFLoader\n",
    "from langchain.callbacks import get_openai_callback\n",
    "from langchain.chains.question_answering import load_qa_chain\n",
    "from langchain.docstore.document import Document\n"
   ]
  },
  {
   "cell_type": "code",
   "execution_count": 31,
   "metadata": {},
   "outputs": [
    {
     "name": "stderr",
     "output_type": "stream",
     "text": [
      "huggingface/tokenizers: The current process just got forked, after parallelism has already been used. Disabling parallelism to avoid deadlocks...\n",
      "To disable this warning, you can either:\n",
      "\t- Avoid using `tokenizers` before the fork if possible\n",
      "\t- Explicitly set the environment variable TOKENIZERS_PARALLELISM=(true | false)\n"
     ]
    },
    {
     "name": "stdout",
     "output_type": "stream",
     "text": [
      "--2024-02-22 17:30:29--  https://www.iipa.org.in/upload/world_geo.pdf\n",
      "Resolving www.iipa.org.in (www.iipa.org.in)... 192.124.249.162\n",
      "Connecting to www.iipa.org.in (www.iipa.org.in)|192.124.249.162|:443... connected.\n",
      "HTTP request sent, awaiting response... 200 OK\n",
      "Length: 1900956 (1.8M) [application/pdf]\n",
      "Saving to: ‘world_geo.pdf’\n",
      "\n",
      "world_geo.pdf       100%[===================>]   1.81M  5.08MB/s    in 0.4s    \n",
      "\n",
      "2024-02-22 17:30:29 (5.08 MB/s) - ‘world_geo.pdf’ saved [1900956/1900956]\n",
      "\n"
     ]
    }
   ],
   "source": [
    "# Download the PDF\n",
    "!wget -O world_geo.pdf https://www.iipa.org.in/upload/world_geo.pdf\n",
    "\n",
    "# Load the PDF\n",
    "loader = PyPDFLoader('world_geo.pdf')\n",
    "documents = loader.load()\n",
    "\n",
    "# Split the documents into chunks\n",
    "text_splitter = RecursiveCharacterTextSplitter(chunk_size=1000, chunk_overlap=10)\n",
    "texts = text_splitter.split_documents(documents)\n",
    "\n",
    "# Initialize the embeddings\n",
    "model_name = \"sentence-transformers/all-MiniLM-L6-v2\"\n",
    "model_kwargs = {'device': 'cpu'}\n",
    "encode_kwargs = {'normalize_embeddings': False}\n",
    "embeddings = HuggingFaceBgeEmbeddings(\n",
    "    model_name=model_name,\n",
    "    model_kwargs=model_kwargs,\n",
    "    encode_kwargs=encode_kwargs,\n",
    ")\n",
    "\n",
    "# Connect to the Qdrant server\n",
    "url = \"http://localhost:6333\"\n",
    "qdrant = Qdrant.from_documents(\n",
    "    texts,\n",
    "    embeddings,\n",
    "    url=url,\n",
    "    prefer_grpc=False,\n",
    "    collection_name=\"rag_search\",\n",
    "    force_recreate=True,\n",
    ")\n",
    "\n"
   ]
  },
  {
   "cell_type": "code",
   "execution_count": 35,
   "metadata": {},
   "outputs": [
    {
     "name": "stdout",
     "output_type": "stream",
     "text": [
      "everything good till here ... \n",
      "{'question': 'what is the diameter of the sun', 'input_documents': [Document(page_content=\"8 \\n 2. Stars, Sun & Planets  \\nThe Sun is at the centre of our solar system and also the largest objects of our solar system. \\nHowever, it is an average star. It is roughly 109 times the size of Earth. The Sun has a \\ndiameter of 1,392,000 kilometres. It comprises 99.8% of the mass of the solar system. It isn't \\nthe hottest, it isn't the coolest, and it isn't the oldest. Nor is it brightest, biggest, etc. The \\nsurface temperature of sun is 60000 degrees Celsius. It is lar gely made up of hydrogen gas, \\nwith a minor quantity of helium thrown in for good measure. The Sun accounts for 99.85% of \\nall the matter of the solar system.  \\nThe Sun is the solar system's closest star. It belongs to the Milky Way galaxy. It's thought to \\nbe more than 4 billion years old. The Sun is a yellow dwarf, a medium -sized star. As it rotates \\naround the galaxy, the Sun spins gently on its axis. It is composed mainly\", metadata={'page': 7, 'source': 'world_geo.pdf'}), Document(page_content=\"of hydrogen  and helium . Nuclear fusion  in the core of the Sun is source of all its energ y. The \\nglowing surface of the Sun is called  Photosphere . About it is red coloured Chromosphere and \\nbeyond it is  Corona  (visible during eclipses). The surface of the Sun changes continuously. \\nBright regions are called  Plages  and dark spots are called  Sun spots which  frequently form \\nand disappear.  \\nThe Earth would be a dead sphere of rock and ice if it were not for the Sun. The Sun warms \\nour globe, influences our weather, and provides energy to plants, which provides food and \\nenergy for life on Earth. The Sun' s energy reaches the Earth and other planets in all directions. \\nThe planet absorbs less energy as it gets further away from the Sun.  \\nSun Statistics  \\n\\uf0b7 Distance from the Earth - 150 mn km  \\n\\uf0b7 Diameter -1391980 km  \\n\\uf0b7 Core temperature - 15000000°C  \\n\\uf0b7 Rotation time - 25 day s \\n\\uf0b7 Age - 5 billion years  \\n\\uf0b7 Composition – H2 - 71%, He - 26.5% and other 2.5%\", metadata={'page': 7, 'source': 'world_geo.pdf'}), Document(page_content='almost the same as that of a degree of longitude at the equator. But to be precise, a degree of \\nlatitude changes slightly in length from the equator to the poles. While at the eq uator, it is \\n110.6 km at the poles, it is 111.7 km. Latitude of a place may be determined with the help of \\nthe altitude of the sun or the Pole Star.  \\nDistances between them are measured in  ‘degrees of longitude’; each degree is  further \\ndivided into minutes,  and minutes into seconds.  \\n\\uf0b7 A Circle = 360 Degrees   \\n\\uf0b7 1 Degree = 60 Minutes   \\n\\uf0b7 1 Minute = 60 Seconds   \\nThey are  semi-circles and  the distance between them decreases steadily polewards until it \\nbecomes zero at the poles,  where all the meridians meet.  \\nHeat Zones  \\nThe mid -day sun is exactly overhead at least once a year on all latitudes in between the \\nTropic of Cancer and the Tropic of Capricorn. Therefore, this area gets maximum heat and \\nis called the Torrid Zone. On 21st June the Sun is directly over the Tropic of cancer. On', metadata={'page': 11, 'source': 'world_geo.pdf'}), Document(page_content='2 \\n Contents  \\n1.  Origin of Solar System and Sun  ................................ ................................ ................................ ...........  6 \\n2. Stars, Sun & Planets  ................................ ................................ ................................ .............................  8 \\nSun St atistics  ................................ ................................ ................................ ................................ .......  8 \\nSolar Eclipse  ................................ ................................ ................................ ................................ ........  9 \\nLunar Eclipse  ................................ ................................ ................................ ................................ .......  9 \\nThe Planets  ................................ ................................ ................................ ................................ ..........  9', metadata={'page': 1, 'source': 'world_geo.pdf'}), Document(page_content='average distance of about 150 mill ion km.  \\nEarth revolves around the Sun at an average speed of about 27 km (17 mi) per second, but the \\nspeed is not constant. The planet moves slower when it is at aphelion and faster when it is at \\nperihelion.  The reason the Earth (or any planet) has season s is that Earth is tilted 23 1/2oon its \\naxis. During the Northern Hemisphere summer the North Pole points toward the Sun, and in the \\nNorthern Hemisphere winter the North Pole is tilted away from the Sun.  \\nSummer solstice  \\nOn 21st June, the Northern Hemispher e is tilted towards the sun. The rays of the sun fall directly \\non the Tropic of Cancer. As a result, these areas receive more heat. The areas near the poles \\nreceive less heat as the rays of the sun are slanting. The North Pole is inclined towards the sun \\nand the places beyond the Arctic Circle experience continuous daylight for about six months.', metadata={'page': 15, 'source': 'world_geo.pdf'}), Document(page_content='101 \\n \\uf0b7 The rotation of the earth on this inclined axis has a greater influence on the amount of \\ninsolation received at different latitudes.  \\n2. The angle of incidence of the sun’s rays  \\n\\uf0b7 Since the earth is a geoid resembling a sphere, the sun’s rays strike the surface at \\ndifferent angles at different places. This depends on the latitude of the place.  \\n\\uf0b7 The higher the latitude, the less is the angle they make with the surface of the earth.  \\n\\uf0b7 The area covered by t he vertical rays is always less than the slant rays. If more area is \\ncovered, the energy gets distributed and the net energy received per unit area decreases.  \\n\\uf0b7 Moreover, the sun’s rays with small angle traverse more of the atmosphere than rays \\nstriking at a  large angle.  \\n\\uf0b7 Longer the path of the sun’s rays, greater is the amount of reflection and absorption of \\nheat by the atmosphere. As a result, the intensity of insolation is less.', metadata={'page': 100, 'source': 'world_geo.pdf'}), Document(page_content='from the sun because of the small size of the earth and its distance from the sun.  \\n\\uf0b7 Moreover, water vapour, dust particles, ozone and other gases present in the atmosphere \\nabsorb a small amount of solar radiation.  \\n\\uf0b7 The solar radiation received at the top of the atmosphere varies slightly in a year due to \\nthe variations in the distance betwe en the earth and the sun.  \\n\\uf0b7 During the earth’s revolution around the sun, the earth is farthest from the sun \\non 4th July. This position of the earth is called  aphelion . On  3rd January , the earth is \\nnearest to the sun. This position is called  perihelion . \\n\\uf0b7 Due to this variation in the distance between the earth and the sun, the annual insolation \\nreceived by the earth on 3rd January is slightly more than the amount received on 4th July.  \\n\\uf0b7 However, the effect of this variation is masked by some other factors like th e distribution \\nof land and sea and the atmospheric circulation. Hence the variation does not have a', metadata={'page': 98, 'source': 'world_geo.pdf'}), Document(page_content='Source: https://www.quora.com/Which -zone -receives -the-slanting -rays-of-the-sun', metadata={'page': 100, 'source': 'world_geo.pdf'}), Document(page_content='9 \\n  Solar Eclipse  \\n\\uf0b7 Solar eclipse is caused when the Moon revolving around the Earth comes in between the \\nEarth and the Sun, thus making a part or whole of the Sun in visible from a particular patrol \\nthe Earth.  \\nLunar Eclipse  \\n\\uf0b7 During the revolution of Earth, when comes between moon and the Sun the shadow of the \\nEarth hides moon either fully or partially. This is called lunar edips.  \\nThe Planets  \\nPlanets are actually spinning around the Sun. They have their own elliptical path of movement \\nknown as the orbits. Movement around its own axis is called rotation and around the Sun is \\nrevolution. Planets, unlike stars, have no light or heat of their own. The word ‘planet’ com es \\nfrom the Greek word “Planetai” which means ‘wanderers’. Planets keep changing their \\npositions with respect to the stars.  \\nMercury:  It is nearest to the Sun. It is the smallest planet of the solar system, nearly of the', metadata={'page': 8, 'source': 'world_geo.pdf'}), Document(page_content='orbiting the Sun. It was impossible to capture them since they were too small and had weak \\ngravitational fields.The enormous planets Jupiter and Satur n, which are far from the sun and \\nhave powerful gravitational fields, did, nevertheless, draw and hold thick gaseous \\natmospheres of Hydrogen and Helium.  \\nAnother group of Scientists believe that the Sun has been formed from a moving cloud of \\ngases, which i s called Nebula. The Sun and the planets were born out of this cloud. The force \\nof gravity has created them. For over millions of years, these balls of dust and gas are moving \\naround the Sun. The Sun by virtue of its mass and weight, controls the movement of the \\nplanets. This force is called the force of gravity.  \\nTill 2006, there were nine planets in the solar system. Pluto was the farthest planet from the \\nSun. In 2006, the International Astronomical Union (IAU) adopted a new definition of a', metadata={'page': 5, 'source': 'world_geo.pdf'})], 'output_text': \"The diameter of the Sun is approximately 1.4 million kilometers (870,000 miles). This is based on its average distance from Earth, which is about 93 million miles or 150 million kilometers. However, it's important to note that the Sun's size can vary slightly over time due to its rotation and magnetic field, so the exact diameter can fluctuate slightly. Nonetheless, 1.4 million kilometers is a commonly cited and accepted value for the Sun's diameter.\"}\n"
     ]
    }
   ],
   "source": [
    "# Define the search query\n",
    "search_query = \"what is the diameter of the sun\"\n",
    "\n",
    "# Initialize the SentenceTransformer with a specific model\n",
    "encoder = SentenceTransformer('all-MiniLM-L6-v2')\n",
    "\n",
    "# Encode the search query into a vector\n",
    "query_embedding = encoder.encode(search_query)\n",
    "\n",
    "# Connect to the Qdrant server\n",
    "client = QdrantClient(\"localhost\", port=6333)\n",
    "\n",
    "# Search the collection for documents similar to the query\n",
    "docs = client.search(\n",
    "    collection_name=\"rag_search\",\n",
    "    query_vector=query_embedding.tolist(),\n",
    "    limit=10,\n",
    ")\n",
    "\n",
    "# Extract the payloads from the search results\n",
    "payloads = [Document(**result.payload) for result in docs]\n",
    "\n",
    "\n",
    "# Load the question answering chain\n",
    "llm = Ollama(model=\"llama2\")\n",
    "chain = load_qa_chain(llm, chain_type=\"stuff\")\n",
    "\n",
    "\n",
    "\n",
    "# Invoke the chain with the payloads and the question\n",
    "with get_openai_callback() as cb:\n",
    "    response = chain.invoke( question=search_query, input={\"question\": search_query, \"input_documents\": payloads})\n",
    "\n",
    "print(response[\"output_text\"])"
   ]
  }
 ],
 "metadata": {
  "kernelspec": {
   "display_name": "Python 3 (ipykernel)",
   "language": "python",
   "name": "python3"
  },
  "language_info": {
   "codemirror_mode": {
    "name": "ipython",
    "version": 3
   },
   "file_extension": ".py",
   "mimetype": "text/x-python",
   "name": "python",
   "nbconvert_exporter": "python",
   "pygments_lexer": "ipython3",
   "version": "3.11.5"
  }
 },
 "nbformat": 4,
 "nbformat_minor": 2
}
